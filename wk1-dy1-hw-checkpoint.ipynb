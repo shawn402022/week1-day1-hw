{
 "cells": [
  {
   "cell_type": "markdown",
   "id": "4341bac3",
   "metadata": {},
   "source": [
    "# Exercise #1\n"
   ]
  },
  {
   "cell_type": "markdown",
   "id": "89949417",
   "metadata": {},
   "source": [
    "Cube Number Test... Print out all cubed numbers up to the total value 1000. Meaning that if the cubed number is over 1000 break the loop.\n",
    "\n"
   ]
  },
  {
   "cell_type": "markdown",
   "id": "a8be0b71",
   "metadata": {},
   "source": [
    "first try"
   ]
  },
  {
   "cell_type": "code",
   "execution_count": 2,
   "id": "28afa95a",
   "metadata": {},
   "outputs": [
    {
     "name": "stdout",
     "output_type": "stream",
     "text": [
      "0\n",
      "1\n",
      "8\n",
      "27\n",
      "64\n",
      "125\n",
      "216\n",
      "343\n",
      "512\n",
      "729\n",
      "1000\n"
     ]
    }
   ],
   "source": [
    "# use while is or while in because its a membership check\n",
    "num = 0\n",
    "\n",
    "while num **3 <= 1000:\n",
    "    print(num **3)\n",
    "    num+=1"
   ]
  },
  {
   "cell_type": "markdown",
   "id": "547fe940",
   "metadata": {},
   "source": [
    "second try"
   ]
  },
  {
   "cell_type": "code",
   "execution_count": 16,
   "id": "60cd5748",
   "metadata": {},
   "outputs": [
    {
     "ename": "TypeError",
     "evalue": "unsupported operand type(s) for ** or pow(): 'list' and 'int'",
     "output_type": "error",
     "traceback": [
      "\u001b[1;31m---------------------------------------------------------------------------\u001b[0m",
      "\u001b[1;31mTypeError\u001b[0m                                 Traceback (most recent call last)",
      "Input \u001b[1;32mIn [16]\u001b[0m, in \u001b[0;36m<cell line: 4>\u001b[1;34m()\u001b[0m\n\u001b[0;32m      4\u001b[0m \u001b[38;5;28;01mfor\u001b[39;00m i \u001b[38;5;129;01min\u001b[39;00m list_num:\n\u001b[0;32m      5\u001b[0m     \u001b[38;5;28;01mif\u001b[39;00m \u001b[38;5;28misinstance\u001b[39m(i,\u001b[38;5;28mlist\u001b[39m) :\n\u001b[1;32m----> 6\u001b[0m         nList\u001b[38;5;241m.\u001b[39mappend(\u001b[43mi\u001b[49m\u001b[38;5;241;43m*\u001b[39;49m\u001b[38;5;241;43m*\u001b[39;49m\u001b[38;5;241;43m3\u001b[39;49m)\n\u001b[0;32m      7\u001b[0m         \u001b[38;5;28mprint\u001b[39m(nList)\n",
      "\u001b[1;31mTypeError\u001b[0m: unsupported operand type(s) for ** or pow(): 'list' and 'int'"
     ]
    }
   ],
   "source": [
    "list_num = [list(range(1000))]\n",
    "nList = []\n",
    "\n",
    "for i in list_num:\n",
    "    if isinstance(i,list) :\n",
    "        nList.append(i**3)\n",
    "        print(nList)\n",
    "\n",
    "\n",
    "\n"
   ]
  },
  {
   "cell_type": "code",
   "execution_count": null,
   "id": "deda3b50",
   "metadata": {},
   "outputs": [],
   "source": []
  },
  {
   "cell_type": "markdown",
   "id": "423f188d",
   "metadata": {},
   "source": [
    "# Exercise #2"
   ]
  },
  {
   "cell_type": "markdown",
   "id": "f9081178",
   "metadata": {},
   "source": [
    "Get first prime numbers up to 100"
   ]
  },
  {
   "cell_type": "code",
   "execution_count": 3,
   "id": "585f547f",
   "metadata": {},
   "outputs": [
    {
     "name": "stdout",
     "output_type": "stream",
     "text": [
      "[1, 3, 5, 7, 9, 11, 13, 15, 17, 19, 21, 23, 25, 27, 29, 31, 33, 35, 37, 39, 41, 43, 45, 47, 49, 51, 53, 55, 57, 59, 61, 63, 65, 67, 69, 71, 73, 75, 77, 79, 81, 83, 85, 87, 89, 91, 93, 95, 97, 99]\n"
     ]
    }
   ],
   "source": [
    "# HINT::\n",
    "# An else after an if runs if the if didn’t\n",
    "# An else after a for runs if the for didn’t break\n",
    "\n",
    "\n",
    "primeL=[]\n",
    "\n",
    "rangeL =list(range(100))\n",
    "\n",
    "for i in rangeL:\n",
    "    if i % 2 == 1:\n",
    "        primeL.append(i)\n",
    "print(primeL)"
   ]
  },
  {
   "cell_type": "code",
   "execution_count": null,
   "id": "1c893412",
   "metadata": {},
   "outputs": [],
   "source": []
  },
  {
   "cell_type": "markdown",
   "id": "65e2c902",
   "metadata": {},
   "source": [
    "# Exercise 3\n",
    "Take in a users input for their age, if they are younger than 18 print kids, if they're 18 to 65 print adults, else print seniors"
   ]
  },
  {
   "cell_type": "code",
   "execution_count": 8,
   "id": "07033e59",
   "metadata": {},
   "outputs": [
    {
     "name": "stdout",
     "output_type": "stream",
     "text": [
      "how old are you?66\n",
      "Seniors\n"
     ]
    }
   ],
   "source": [
    "userK = \"Kids\"\n",
    "userA = \"Adults\"\n",
    "userS = \"Seniors\"\n",
    "\n",
    "ageQ = input(\"how old are you?\")\n",
    "\n",
    "if int(ageQ) <= 18:\n",
    "    print(userK)\n",
    "elif int(ageQ) <= 65:\n",
    "    print(userA)\n",
    "elif int(ageQ) >= 65:\n",
    "    print(userS)"
   ]
  }
 ],
 "metadata": {
  "kernelspec": {
   "display_name": "Python 3.10.6 64-bit",
   "language": "python",
   "name": "python3"
  },
  "language_info": {
   "codemirror_mode": {
    "name": "ipython",
    "version": 3
   },
   "file_extension": ".py",
   "mimetype": "text/x-python",
   "name": "python",
   "nbconvert_exporter": "python",
   "pygments_lexer": "ipython3",
   "version": "3.10.6"
  },
  "vscode": {
   "interpreter": {
    "hash": "697cb4f517f808f55f23dad1bb419bcc07fc6f63fbe8a5c5385685691b018728"
   }
  }
 },
 "nbformat": 4,
 "nbformat_minor": 5
}
